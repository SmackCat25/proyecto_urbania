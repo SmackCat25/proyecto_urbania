{
 "cells": [
  {
   "cell_type": "code",
   "id": "initial_id",
   "metadata": {
    "collapsed": true,
    "ExecuteTime": {
     "end_time": "2025-08-27T02:08:20.787321Z",
     "start_time": "2025-08-27T02:08:20.402954Z"
    }
   },
   "source": [
    "from urllib.robotparser import RobotFileParser\n",
    "\n",
    "robots_url = 'https://repositorio.pucp.edu.pe/robots.txt'\n",
    "parser = RobotFileParser()\n",
    "parser.set_url(robots_url)\n",
    "parser.read()\n",
    "\n",
    "parser.site_maps()"
   ],
   "outputs": [
    {
     "data": {
      "text/plain": [
       "['https://repositorio.pucp.edu.pe/sitemap_index.xml',\n",
       " 'https://repositorio.pucp.edu.pe/sitemap_index.html']"
      ]
     },
     "execution_count": 17,
     "metadata": {},
     "output_type": "execute_result"
    }
   ],
   "execution_count": 17
  },
  {
   "metadata": {
    "ExecuteTime": {
     "end_time": "2025-08-27T02:08:55.794813Z",
     "start_time": "2025-08-27T02:08:55.792205Z"
    }
   },
   "cell_type": "code",
   "source": [
    "sitemaps_xml = [url for url in parser.site_maps() if url.endswith(\".xml\")]\n",
    "print(sitemaps_xml)"
   ],
   "id": "92aea2857f8eadb8",
   "outputs": [
    {
     "name": "stdout",
     "output_type": "stream",
     "text": [
      "['https://repositorio.pucp.edu.pe/sitemap_index.xml']\n"
     ]
    }
   ],
   "execution_count": 18
  },
  {
   "metadata": {
    "ExecuteTime": {
     "end_time": "2025-08-27T02:11:33.032699Z",
     "start_time": "2025-08-27T02:11:26.061343Z"
    }
   },
   "cell_type": "code",
   "source": [
    "import requests\n",
    "from bs4 import BeautifulSoup\n",
    "\n",
    "def urls_from_sitemap(xml_content, max_num_items=10):\n",
    "    soup = BeautifulSoup(xml_content, \"xml\")\n",
    "    data_dict = {}\n",
    "\n",
    "    num_items = 0\n",
    "    for url in soup.find_all('url'):\n",
    "        if num_items >= max_num_items:\n",
    "            break\n",
    "\n",
    "        loc = url.find('loc')\n",
    "        lastmod = url.find('lastmod')\n",
    "\n",
    "        if loc:\n",
    "            data_dict[loc.text] = lastmod.text if lastmod else None\n",
    "\n",
    "        num_items += 1\n",
    "\n",
    "    return data_dict\n",
    "\n",
    "def sitemaps_from_sitemap_index(xml_content):\n",
    "    soup = BeautifulSoup(xml_content, \"xml\")\n",
    "\n",
    "    all_urls = []\n",
    "    for _sitemap in soup.find_all('sitemap'):\n",
    "        loc = _sitemap.find('loc')\n",
    "        if loc:\n",
    "            sitemap_resp = requests.get(loc.text)\n",
    "            sitemap_resp.raise_for_status()\n",
    "\n",
    "            sitemap_urls_dict = urls_from_sitemap(sitemap_resp.content)\n",
    "            all_urls.extend(list(sitemap_urls_dict.keys()))\n",
    "\n",
    "    return all_urls\n",
    "\n",
    "urls_list = []\n",
    "for sitemap in sitemaps_xml:\n",
    "    resp = requests.get(sitemap)\n",
    "    resp.raise_for_status()\n",
    "    urls_list.extend(sitemaps_from_sitemap_index(resp.content))\n",
    "\n",
    "print(urls_list)\n",
    "\n"
   ],
   "id": "8a8e427189d69860",
   "outputs": [
    {
     "name": "stdout",
     "output_type": "stream",
     "text": [
      "['https://repositorio.pucp.edu.pe/communities/3428845b-0ace-4738-893c-4bb53bcc3827', 'https://repositorio.pucp.edu.pe/communities/ad0e17a0-59ab-411b-a650-646c023c4e96', 'https://repositorio.pucp.edu.pe/communities/0ab64207-8ca3-47d3-bdfa-e0293791c985', 'https://repositorio.pucp.edu.pe/communities/9d351cb1-0b9e-41f3-9011-da1fc80377a3', 'https://repositorio.pucp.edu.pe/communities/c190c38a-9fed-45cf-a6a9-978250f828a7', 'https://repositorio.pucp.edu.pe/communities/7bda85d4-ace5-4a7f-a7d6-48fd63a749d0', 'https://repositorio.pucp.edu.pe/communities/2e20166c-7253-47d0-9edb-88942fcc9c2b', 'https://repositorio.pucp.edu.pe/communities/a0f062f8-d2a1-4b4b-89b7-28a6a4ed6e46', 'https://repositorio.pucp.edu.pe/communities/2c95bbdb-ab67-43e0-a100-4f4ca3246219', 'https://repositorio.pucp.edu.pe/communities/b3f4d151-efdd-4163-807c-040269ddb109', 'https://repositorio.pucp.edu.pe/items/a09fe3f8-eb8d-4a96-872d-1e3910cc4389', 'https://repositorio.pucp.edu.pe/items/a0a35f91-345f-4b15-b0ce-9149a96cf094', 'https://repositorio.pucp.edu.pe/items/a0a49482-61b4-4f06-8c6c-6913fb6c322d', 'https://repositorio.pucp.edu.pe/items/a0a6a20a-447f-478e-b240-87a1c6b8868b', 'https://repositorio.pucp.edu.pe/items/a0a838c5-73de-498d-ab00-2393558873c6', 'https://repositorio.pucp.edu.pe/items/a0a8e2bf-ebee-4405-9c4a-bcfe42005aec', 'https://repositorio.pucp.edu.pe/items/a0aa3083-1272-4f5a-a33c-6999070de35f', 'https://repositorio.pucp.edu.pe/items/a0acc989-d3bc-4010-9dc7-c0c9a5e2dbd5', 'https://repositorio.pucp.edu.pe/items/a0acedb0-c548-4bbd-8a77-59626d681b36', 'https://repositorio.pucp.edu.pe/items/a0afc596-8aa0-4117-bed9-fee6fbf31b6f']\n"
     ]
    }
   ],
   "execution_count": 19
  }
 ],
 "metadata": {
  "kernelspec": {
   "display_name": "Python 3",
   "language": "python",
   "name": "python3"
  },
  "language_info": {
   "codemirror_mode": {
    "name": "ipython",
    "version": 2
   },
   "file_extension": ".py",
   "mimetype": "text/x-python",
   "name": "python",
   "nbconvert_exporter": "python",
   "pygments_lexer": "ipython2",
   "version": "2.7.6"
  }
 },
 "nbformat": 4,
 "nbformat_minor": 5
}
